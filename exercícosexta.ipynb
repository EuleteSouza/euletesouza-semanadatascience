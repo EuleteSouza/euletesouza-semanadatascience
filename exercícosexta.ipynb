{
 "cells": [
  {
   "cell_type": "markdown",
   "metadata": {},
   "source": [
    "\n",
    "---Sexta-Feira---\n",
    "Estatística\n",
    "\n",
    "-Média : 5\n",
    "\n",
    "-Mediana : 10\n",
    "\n",
    "-Moda : 10\n",
    "\n",
    "-Quartis : 40\n",
    "\n",
    "-Desvio Padrão : 60\n"
   ]
  },
  {
   "cell_type": "markdown",
   "metadata": {},
   "source": [
    "## Média\n",
    "\n",
    "Medida de tendência central para descrever resumidamente uma distribuição de frequência. \n",
    "\n",
    "A média de um conjunto de dados é encontrada somando-se todos os números do conjunto de dados e então dividindo o resultado pelo número de valores do conjunto.\n",
    "Media aritmédica:\n",
    "soma de dados / n \n",
    "\n",
    "Media Ponderada: \n",
    "Soma (dados * pesos)/soma(pesos)\n",
    "\n",
    "Media Harmônica\n",
    "xh = (1/(soma(1/xj)))\n",
    "xh = n/(sum(1/xj))\n"
   ]
  },
  {
   "cell_type": "markdown",
   "metadata": {},
   "source": [
    "## Moda\n",
    "Valor mais frequente no conjunto de dados.\n",
    "\n",
    "Mediana é o valor do meio quando o conjunto de dados está ordenado do menor para o maior."
   ]
  },
  {
   "cell_type": "markdown",
   "metadata": {},
   "source": [
    "## Mediana\n",
    "\n",
    "Valor central do conjunto de dados em que ao menos 50% dos valores sejam iguais ou maiores a ela.\n",
    "\n",
    "A moda é o número que aparece mais vezes em um conjunto de dados."
   ]
  },
  {
   "cell_type": "markdown",
   "metadata": {},
   "source": [
    "## Quartil\n",
    "\n",
    "São valores que dividem uma amostra ou população em 4 partes iguais.\n",
    "\n",
    "min - q1 - q2 - q3 - max.\n",
    "\n",
    "25% - 25%- 25% - 25%"
   ]
  },
  {
   "cell_type": "markdown",
   "metadata": {},
   "source": [
    "## Desvio Padrão\n",
    "PRIMEIRO DEVE-SE ACHAR O DESVIO E A VARIÂNCIA\n",
    "\n",
    "Desvio: \n",
    "Para achar o desvio, primeiro deve-se achar a media dos dados. \n",
    "Depois, será a diferença entre o dado e a média dos dados.\n",
    "\n",
    "### Variância\n",
    "\n",
    "media dos quadrados dos desvios.\n",
    "\n",
    "## DESVIO PADRAO\n",
    "\n",
    "É A RAIZ QUADRADA DA VARIANCIA "
   ]
  },
  {
   "cell_type": "markdown",
   "metadata": {},
   "source": [
    "fonte:\n",
    "\n",
    "https://www.youtube.com/watch?v=yW5mqf7k82k\n",
    "\n",
    "https://www.youtube.com/watch?v=kt-5klXvsws\n",
    "\n",
    "https://www.youtube.com/watch?v=IgoKxQK5hGQ\n",
    "\n",
    "https://www.youtube.com/watch?v=lwk6WNVK6O0"
   ]
  }
 ],
 "metadata": {
  "language_info": {
   "name": "python"
  }
 },
 "nbformat": 4,
 "nbformat_minor": 2
}
