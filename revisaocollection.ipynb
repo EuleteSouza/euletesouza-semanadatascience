{
 "cells": [
  {
   "cell_type": "markdown",
   "metadata": {},
   "source": [
    "## lista "
   ]
  },
  {
   "cell_type": "code",
   "execution_count": 10,
   "metadata": {},
   "outputs": [
    {
     "data": {
      "text/plain": [
       "list"
      ]
     },
     "execution_count": 10,
     "metadata": {},
     "output_type": "execute_result"
    }
   ],
   "source": [
    "lista_times = [\"vasco\", \"flamengo\", \"fluminense\", \"são paulo\"]\n",
    "type(lista_times)"
   ]
  },
  {
   "cell_type": "code",
   "execution_count": 16,
   "metadata": {},
   "outputs": [
    {
     "data": {
      "text/plain": [
       "tuple"
      ]
     },
     "execution_count": 16,
     "metadata": {},
     "output_type": "execute_result"
    }
   ],
   "source": [
    "tupla_times = (\"vasco\", \"flamengo\", \"fluminense\", \"são paulo\")\n",
    "type(tupla_times)"
   ]
  },
  {
   "cell_type": "code",
   "execution_count": 18,
   "metadata": {},
   "outputs": [
    {
     "data": {
      "text/plain": [
       "set"
      ]
     },
     "execution_count": 18,
     "metadata": {},
     "output_type": "execute_result"
    }
   ],
   "source": [
    "conjunto_times = {\"vasco\", \"flamengo\", \"fluminense\", \"são paulo\"}\n",
    "type(conjunto_times)"
   ]
  },
  {
   "cell_type": "code",
   "execution_count": 21,
   "metadata": {},
   "outputs": [
    {
     "data": {
      "text/plain": [
       "{'flamengo', 'fluminense', 'são paulo', 'vasco'}"
      ]
     },
     "execution_count": 21,
     "metadata": {},
     "output_type": "execute_result"
    }
   ],
   "source": [
    "conjunto_times = {\"vasco\", \"flamengo\", \"fluminense\", \"são paulo\", \"flamengo\"}\n",
    "conjunto_times"
   ]
  },
  {
   "cell_type": "markdown",
   "metadata": {},
   "source": [
    "## Dicionário\n",
    "-  coleção de pares chave-valor, onde cada chave é única. \n",
    "Você pode usar um dicionário para associar informações específicas\n",
    "a cada tipo de imóvel."
   ]
  },
  {
   "cell_type": "code",
   "execution_count": null,
   "metadata": {},
   "outputs": [],
   "source": [
    "# Criando um dicionário com informações sobre apartamento\n",
    "\n",
    "apartamentos = {\n",
    "    \"taguatinga\": 3,\n",
    "    \"brazlandia\": 5,\n",
    "    \"ceilandia\": 2\n",
    "    }\n",
    "\n",
    "# acessando valores no dicionário\n",
    "print(apartamentos[\"taguatinga\"]) # saída: 3\n",
    "\n",
    "# adicionando um novo apartamento\n",
    "apartamentos[\"candangolândia\"] = 4\n",
    "\n",
    "# iterando sobre as chaves e valores\n",
    "for apartamento, quantidade in apartamentos.items():\n",
    "    print(f'{apartamento}: {quantidade}')"
   ]
  }
 ],
 "metadata": {
  "kernelspec": {
   "display_name": ".venv",
   "language": "python",
   "name": "python3"
  },
  "language_info": {
   "codemirror_mode": {
    "name": "ipython",
    "version": 3
   },
   "file_extension": ".py",
   "mimetype": "text/x-python",
   "name": "python",
   "nbconvert_exporter": "python",
   "pygments_lexer": "ipython3",
   "version": "3.12.4"
  }
 },
 "nbformat": 4,
 "nbformat_minor": 2
}
