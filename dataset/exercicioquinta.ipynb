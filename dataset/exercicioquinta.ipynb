{
 "cells": [
  {
   "cell_type": "markdown",
   "metadata": {},
   "source": [
    "## PROGRAMAÇÃO ORIENTADA A OBJETOS:\n",
    "\n",
    "É uma forma de reduzir a complexidade no desenvolvimento de softwares. É um paradigma!!!\n",
    "É um modelo de programação baseado no conceito de objetos onde podem conter dados na forma de atributos e metodos. \n",
    "São criados coleções de objetos com estruturas e comportamentos proprios; esses objetos interagem entre si, executam as ações solicitadas.\n",
    "Objetivo é a unificação de processos e dados; agrupamento e reutilização de códigos."
   ]
  },
  {
   "cell_type": "markdown",
   "metadata": {},
   "source": [
    "### CLASSES\n",
    "\n",
    "É conj de objetos que se define pelo fato desses objetos terem um ou mais características em comum"
   ]
  },
  {
   "cell_type": "markdown",
   "metadata": {},
   "source": [
    "### OBJETO\n",
    "\n",
    "É um elemento pertencente a uma classe. É uma instancia da classe."
   ]
  },
  {
   "cell_type": "markdown",
   "metadata": {},
   "source": [
    "### ATRIBUTOS\n",
    "\n",
    "É o conjunto de caracteristicas especificas de um objeto.\n"
   ]
  },
  {
   "cell_type": "markdown",
   "metadata": {},
   "source": [
    "### METODOS\n",
    "\n",
    "É a caracteristica que permite alterar a funcionalidade de um atributo.\n",
    "Habilidades de um objeto, por exemplo.\n"
   ]
  },
  {
   "cell_type": "markdown",
   "metadata": {},
   "source": [
    "### HERANÇA\n",
    "\n",
    "\n"
   ]
  },
  {
   "cell_type": "markdown",
   "metadata": {},
   "source": [
    "### POLIMORFISMO\n",
    "\n",
    "Tratar os objetos uniformemente. Capacidade do objeto assumir formas diferentes de acordo com contextos diferentes estabelecido no meu código."
   ]
  },
  {
   "cell_type": "markdown",
   "metadata": {},
   "source": [
    "### ENCAPSULAMENTO\n",
    "\n",
    "Tecnica q faz com que detalhes internos do funcionamento de um metodo de uma classe, permaneça oculto para o objeto. Evitar que dados sofram acessos indevidos. \n",
    "propriedades:\n",
    "get - retorna valor pedido - pega um atributo\n",
    "set - recebe com argumento uma informação - modifica um atributo da classe\n"
   ]
  },
  {
   "cell_type": "markdown",
   "metadata": {},
   "source": [
    "### PARADIGMA"
   ]
  }
 ],
 "metadata": {
  "kernelspec": {
   "display_name": "Python 3",
   "language": "python",
   "name": "python3"
  },
  "language_info": {
   "codemirror_mode": {
    "name": "ipython",
    "version": 3
   },
   "file_extension": ".py",
   "mimetype": "text/x-python",
   "name": "python",
   "nbconvert_exporter": "python",
   "pygments_lexer": "ipython3",
   "version": "3.12.4"
  }
 },
 "nbformat": 4,
 "nbformat_minor": 2
}
